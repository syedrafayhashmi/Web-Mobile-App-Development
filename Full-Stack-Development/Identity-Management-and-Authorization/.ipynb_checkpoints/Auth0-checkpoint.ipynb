{
 "cells": [
  {
   "cell_type": "code",
   "execution_count": 1,
   "metadata": {},
   "outputs": [
    {
     "name": "stdout",
     "output_type": "stream",
     "text": [
      "Collecting python-jose\n",
      "  Downloading https://files.pythonhosted.org/packages/6c/80/5bdf2543fe002dc74429e9360148deb4d9e0b453acdc2b5c6fb1617f4f9d/python_jose-3.1.0-py2.py3-none-any.whl\n",
      "Requirement already satisfied: six<2.0 in c:\\users\\rafey\\anaconda3\\lib\\site-packages (from python-jose) (1.12.0)\n",
      "Requirement already satisfied: pyasn1 in c:\\users\\rafey\\anaconda3\\lib\\site-packages (from python-jose) (0.4.8)\n",
      "Collecting ecdsa<1.0 (from python-jose)\n",
      "  Downloading https://files.pythonhosted.org/packages/b8/11/4b4d30e4746584684c758d8f1ddc1fa5ab1470b6bf70bce4d9b235965e99/ecdsa-0.15-py2.py3-none-any.whl (100kB)\n",
      "Requirement already satisfied: rsa in c:\\users\\rafey\\anaconda3\\lib\\site-packages (from python-jose) (4.0)\n",
      "Installing collected packages: ecdsa, python-jose\n",
      "Successfully installed ecdsa-0.15 python-jose-3.1.0\n"
     ]
    }
   ],
   "source": [
    "# Install a pip package in the current Jupyter kernel\n",
    "import sys\n",
    "!{sys.executable} -m pip install python-jose"
   ]
  },
  {
   "cell_type": "code",
   "execution_count": 12,
   "metadata": {
    "graffitiCellId": "id_5qf01fj"
   },
   "outputs": [],
   "source": [
    "import json\n",
    "from jose import jwt\n",
    "from urllib.request import urlopen"
   ]
  },
  {
   "cell_type": "code",
   "execution_count": 13,
   "metadata": {
    "graffitiCellId": "id_nu2vsb5"
   },
   "outputs": [],
   "source": [
    "# Configuration\n",
    "# UPDATE THIS TO REFLECT YOUR AUTH0 ACCOUNT\n",
    "AUTH0_DOMAIN = 'syedrafay.auth0.com'\n",
    "ALGORITHMS = ['RS256']\n",
    "API_AUDIENCE = 'image'"
   ]
  },
  {
   "cell_type": "code",
   "execution_count": 14,
   "metadata": {
    "graffitiCellId": "id_98ial4d"
   },
   "outputs": [],
   "source": [
    "'''\n",
    "AuthError Exception\n",
    "A standardized way to communicate auth failure modes\n",
    "'''\n",
    "class AuthError(Exception):\n",
    "    def __init__(self, error, status_code):\n",
    "        self.error = error\n",
    "        self.status_code = status_code"
   ]
  },
  {
   "cell_type": "code",
   "execution_count": 15,
   "metadata": {
    "graffitiCellId": "id_xgkyq9n"
   },
   "outputs": [],
   "source": [
    "# PASTE YOUR OWN TOKEN HERE\n",
    "# MAKE SURE THIS IS A VALID AUTH0 TOKEN FROM THE LOGIN FLOW\n",
    "token = \"eyJhbGciOiJSUzI1NiIsInR5cCI6IkpXVCIsImtpZCI6ImZpaS01RU93OGV0YlBRdUxKSk5xXyJ9.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.agp8oHttiyNStGjHHuJyV4kFnokulEfwz5E_mh78kklNFEcgBW-TLePIITc6tRTMqGPIEZNQ1nk4QWrkWX2R3cGlLrjuzogtuZcJ9yTfWfEdeCe_ggLmyddEQDl8wWLaWIXHSsg3w56pEogqz0CQbTB6KVYDvNL9Bo46eCr3DABbZi9SJbY68J1kTafYQJoKiz09hjIUOdlhKlGItzZ9Z6bmtvpgCjnLCU5Pgj-tTjgA7i3FJSfi5-TbRbJ8d4X7mb2wFu90UEJcXrn-KfQ5WurYEfFaGb4RJLMJNZE8ia-8AVModc6y3Kz3nzIRAmoAKu5SKVMrPRr7O-diPoNBjg\"\n"
   ]
  },
  {
   "cell_type": "code",
   "execution_count": 16,
   "metadata": {
    "graffitiCellId": "id_ntjo5uo"
   },
   "outputs": [],
   "source": [
    "## Auth Header\n",
    "def verify_decode_jwt(token):\n",
    "    # GET THE PUBLIC KEY FROM AUTH0\n",
    "    jsonurl = urlopen(f'https://{AUTH0_DOMAIN}/.well-known/jwks.json')\n",
    "    jwks = json.loads(jsonurl.read())\n",
    "    \n",
    "    # GET THE DATA IN THE HEADER\n",
    "    unverified_header = jwt.get_unverified_header(token)\n",
    "    \n",
    "    # CHOOSE OUR KEY\n",
    "    rsa_key = {}\n",
    "    if 'kid' not in unverified_header:\n",
    "        raise AuthError({\n",
    "            'code': 'invalid_header',\n",
    "            'description': 'Authorization malformed.'\n",
    "        }, 401)\n",
    "\n",
    "    for key in jwks['keys']:\n",
    "        if key['kid'] == unverified_header['kid']:\n",
    "            rsa_key = {\n",
    "                'kty': key['kty'],\n",
    "                'kid': key['kid'],\n",
    "                'use': key['use'],\n",
    "                'n': key['n'],\n",
    "                'e': key['e']\n",
    "            }\n",
    "    \n",
    "    # Finally, verify!!!\n",
    "    if rsa_key:\n",
    "        try:\n",
    "            # USE THE KEY TO VALIDATE THE JWT\n",
    "            payload = jwt.decode(\n",
    "                token,\n",
    "                rsa_key,\n",
    "                algorithms=ALGORITHMS,\n",
    "                audience=API_AUDIENCE,\n",
    "                issuer='https://' + AUTH0_DOMAIN + '/'\n",
    "            )\n",
    "\n",
    "            return payload\n",
    "\n",
    "        except jwt.ExpiredSignatureError:\n",
    "            raise AuthError({\n",
    "                'code': 'token_expired',\n",
    "                'description': 'Token expired.'\n",
    "            }, 401)\n",
    "\n",
    "        except jwt.JWTClaimsError:\n",
    "            raise AuthError({\n",
    "                'code': 'invalid_claims',\n",
    "                'description': 'Incorrect claims. Please, check the audience and issuer.'\n",
    "            }, 401)\n",
    "        except Exception:\n",
    "            raise AuthError({\n",
    "                'code': 'invalid_header',\n",
    "                'description': 'Unable to parse authentication token.'\n",
    "            }, 400)\n",
    "    raise AuthError({\n",
    "                'code': 'invalid_header',\n",
    "                'description': 'Unable to find the appropriate key.'\n",
    "            }, 400)"
   ]
  },
  {
   "cell_type": "code",
   "execution_count": 18,
   "metadata": {},
   "outputs": [
    {
     "ename": "AuthError",
     "evalue": "({'code': 'invalid_header', 'description': 'Unable to find the appropriate key.'}, 400)",
     "output_type": "error",
     "traceback": [
      "\u001b[1;31m---------------------------------------------------------------------------\u001b[0m",
      "\u001b[1;31mAuthError\u001b[0m                                 Traceback (most recent call last)",
      "\u001b[1;32m<ipython-input-18-6f7f678b5003>\u001b[0m in \u001b[0;36m<module>\u001b[1;34m\u001b[0m\n\u001b[1;32m----> 1\u001b[1;33m \u001b[0mverify_decode_jwt\u001b[0m\u001b[1;33m(\u001b[0m\u001b[0mtoken\u001b[0m\u001b[1;33m)\u001b[0m\u001b[1;33m\u001b[0m\u001b[1;33m\u001b[0m\u001b[0m\n\u001b[0m",
      "\u001b[1;32m<ipython-input-16-b7d682979795>\u001b[0m in \u001b[0;36mverify_decode_jwt\u001b[1;34m(token)\u001b[0m\n\u001b[0;32m     59\u001b[0m                 \u001b[1;34m'code'\u001b[0m\u001b[1;33m:\u001b[0m \u001b[1;34m'invalid_header'\u001b[0m\u001b[1;33m,\u001b[0m\u001b[1;33m\u001b[0m\u001b[1;33m\u001b[0m\u001b[0m\n\u001b[0;32m     60\u001b[0m                 \u001b[1;34m'description'\u001b[0m\u001b[1;33m:\u001b[0m \u001b[1;34m'Unable to find the appropriate key.'\u001b[0m\u001b[1;33m\u001b[0m\u001b[1;33m\u001b[0m\u001b[0m\n\u001b[1;32m---> 61\u001b[1;33m             }, 400)\n\u001b[0m",
      "\u001b[1;31mAuthError\u001b[0m: ({'code': 'invalid_header', 'description': 'Unable to find the appropriate key.'}, 400)"
     ]
    }
   ],
   "source": [
    "verify_decode_jwt(token)"
   ]
  },
  {
   "cell_type": "code",
   "execution_count": null,
   "metadata": {},
   "outputs": [],
   "source": []
  }
 ],
 "metadata": {
  "graffiti": {
   "firstAuthorId": "10489997357",
   "id": "id_6cjtndd",
   "language": "EN"
  },
  "kernelspec": {
   "display_name": "Python 3",
   "language": "python",
   "name": "python3"
  },
  "language_info": {
   "codemirror_mode": {
    "name": "ipython",
    "version": 3
   },
   "file_extension": ".py",
   "mimetype": "text/x-python",
   "name": "python",
   "nbconvert_exporter": "python",
   "pygments_lexer": "ipython3",
   "version": "3.7.3"
  }
 },
 "nbformat": 4,
 "nbformat_minor": 2
}
