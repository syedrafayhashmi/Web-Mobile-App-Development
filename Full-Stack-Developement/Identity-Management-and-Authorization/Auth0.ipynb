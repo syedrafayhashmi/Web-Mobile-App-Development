{
 "cells": [
  {
   "cell_type": "code",
   "execution_count": 1,
   "metadata": {},
   "outputs": [
    {
     "name": "stdout",
     "output_type": "stream",
     "text": [
      "Collecting python-jose\n",
      "  Downloading https://files.pythonhosted.org/packages/6c/80/5bdf2543fe002dc74429e9360148deb4d9e0b453acdc2b5c6fb1617f4f9d/python_jose-3.1.0-py2.py3-none-any.whl\n",
      "Requirement already satisfied: six<2.0 in c:\\users\\rafey\\anaconda3\\lib\\site-packages (from python-jose) (1.12.0)\n",
      "Requirement already satisfied: pyasn1 in c:\\users\\rafey\\anaconda3\\lib\\site-packages (from python-jose) (0.4.8)\n",
      "Collecting ecdsa<1.0 (from python-jose)\n",
      "  Downloading https://files.pythonhosted.org/packages/b8/11/4b4d30e4746584684c758d8f1ddc1fa5ab1470b6bf70bce4d9b235965e99/ecdsa-0.15-py2.py3-none-any.whl (100kB)\n",
      "Requirement already satisfied: rsa in c:\\users\\rafey\\anaconda3\\lib\\site-packages (from python-jose) (4.0)\n",
      "Installing collected packages: ecdsa, python-jose\n",
      "Successfully installed ecdsa-0.15 python-jose-3.1.0\n"
     ]
    }
   ],
   "source": [
    "# Install a pip package in the current Jupyter kernel\n",
    "import sys\n",
    "!{sys.executable} -m pip install python-jose"
   ]
  },
  {
   "cell_type": "code",
   "execution_count": 22,
   "metadata": {
    "graffitiCellId": "id_5qf01fj"
   },
   "outputs": [],
   "source": [
    "import json\n",
    "from jose import jwt\n",
    "from urllib.request import urlopen"
   ]
  },
  {
   "cell_type": "code",
   "execution_count": 46,
   "metadata": {
    "graffitiCellId": "id_nu2vsb5"
   },
   "outputs": [],
   "source": [
    "# Configuration\n",
    "# UPDATE THIS TO REFLECT YOUR AUTH0 ACCOUNT\n",
    "AUTH0_DOMAIN = 'syedrafay.auth0.com'\n",
    "ALGORITHMS = ['RS256']\n",
    "API_AUDIENCE = 'https://syedrafay.auth0.com/api/v2/'"
   ]
  },
  {
   "cell_type": "code",
   "execution_count": 47,
   "metadata": {
    "graffitiCellId": "id_98ial4d"
   },
   "outputs": [],
   "source": [
    "'''\n",
    "AuthError Exception\n",
    "A standardized way to communicate auth failure modes\n",
    "'''\n",
    "class AuthError(Exception):\n",
    "    def __init__(self, error, status_code):\n",
    "        self.error = error\n",
    "        self.status_code = status_code"
   ]
  },
  {
   "cell_type": "code",
   "execution_count": 48,
   "metadata": {
    "graffitiCellId": "id_xgkyq9n"
   },
   "outputs": [],
   "source": [
    "# PASTE YOUR OWN TOKEN HERE\n",
    "# MAKE SURE THIS IS A VALID AUTH0 TOKEN FROM THE LOGIN FLOW\n",
    "token = \"eyJhbGciOiJSUzI1NiIsInR5cCI6IkpXVCIsImtpZCI6ImZpaS01RU93OGV0YlBRdUxKSk5xXyJ9.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.hHeyy7fbKW97Fwz-bKf376X7sCG49mhsT1hwv9KZ8WXHecmY01EW75U77tuwdN61BWQK0L1LsWrXWP6JZevzcE7omb4JC-tbHpzt4k2SLn2Ul8TY8qoRmjO35h5tGldPIGEvQlK28GvTjPqVj2rnQVnSThKd-4jqOfNrM-J27MfVEWJ9BjQr71TgQw3M7DXS2SptADff9ZeyYpcNT3GRr-0VdPD7aLJdcTJ4pBt_G3Ynjm5ebkjCHxdM1zYIDbc7kXkAlMX1sExAwecslvhrwkGLbTlibH_B0VHpSuPFyhJQLMX6YctrsxS0f8EEEHk_P7KcSCcr-0OOFbKLLhBFPg\""
   ]
  },
  {
   "cell_type": "code",
   "execution_count": 51,
   "metadata": {
    "graffitiCellId": "id_ntjo5uo"
   },
   "outputs": [],
   "source": [
    "## Auth Header\n",
    "def verify_decode_jwt(token):\n",
    "    # GET THE PUBLIC KEY FROM AUTH0\n",
    "    jsonurl = urlopen(f'https://{AUTH0_DOMAIN}/.well-known/jwks.json')\n",
    "    jwks = json.loads(jsonurl.read())\n",
    "    # GET THE DATA IN THE HEADER\n",
    "    unverified_header = jwt.get_unverified_header(token)\n",
    "    print(unverified_header)\n",
    "    # CHOOSE OUR KEY\n",
    "    rsa_key = {}\n",
    "    if 'kid' not in unverified_header:\n",
    "        raise AuthError({\n",
    "            'code': 'invalid_header',\n",
    "            'description': 'Authorization malformed.'\n",
    "        }, 401)\n",
    "\n",
    "    for key in jwks['keys']:\n",
    "      \n",
    "        if key['kid'] == unverified_header['kid']:\n",
    "            rsa_key = {\n",
    "                'kty': key['kty'],\n",
    "                'kid': key['kid'],\n",
    "                'use': key['use'],\n",
    "                'n': key['n'],\n",
    "                'e': key['e']\n",
    "            }\n",
    "        \n",
    "    # Finally, verify!!!\n",
    "    if rsa_key:\n",
    "        try:\n",
    "            # USE THE KEY TO VALIDATE THE JWT\n",
    "            payload = jwt.decode(\n",
    "                token,\n",
    "                rsa_key,\n",
    "                algorithms=ALGORITHMS,\n",
    "                audience=API_AUDIENCE,\n",
    "                issuer='https://' + AUTH0_DOMAIN + '/'\n",
    "            )\n",
    "           \n",
    "            return payload\n",
    "\n",
    "        except jwt.ExpiredSignatureError:\n",
    "            raise AuthError({\n",
    "                'code': 'token_expired',\n",
    "                'description': 'Token expired.'\n",
    "            }, 401)\n",
    "\n",
    "        except jwt.JWTClaimsError:\n",
    "            raise AuthError({\n",
    "                'code': 'invalid_claims',\n",
    "                'description': 'Incorrect claims. Please, check the audience and issuer.'\n",
    "            }, 401)\n",
    "        except Exception:\n",
    "            raise AuthError({\n",
    "                'code': 'invalid_header',\n",
    "                'description': 'Unable to parse authentication token.'\n",
    "            }, 400)\n",
    "    raise AuthError({\n",
    "                'code': 'invalid_header',\n",
    "                'description': 'Unable to find the appropriate key.'\n",
    "            }, 400)"
   ]
  },
  {
   "cell_type": "code",
   "execution_count": 52,
   "metadata": {},
   "outputs": [
    {
     "name": "stdout",
     "output_type": "stream",
     "text": [
      "{'alg': 'RS256', 'typ': 'JWT', 'kid': 'fii-5EOw8etbPQuLJJNq_'}\n"
     ]
    },
    {
     "data": {
      "text/plain": [
       "{'iss': 'https://syedrafay.auth0.com/',\n",
       " 'sub': 'rKp5DMU3WgjLTVKBEEmBvBH8Ivne9xFF@clients',\n",
       " 'aud': 'https://syedrafay.auth0.com/api/v2/',\n",
       " 'iat': 1587241887,\n",
       " 'exp': 1587328287,\n",
       " 'azp': 'rKp5DMU3WgjLTVKBEEmBvBH8Ivne9xFF',\n",
       " 'scope': 'read:client_grants create:client_grants delete:client_grants update:client_grants read:users update:users delete:users create:users read:users_app_metadata update:users_app_metadata delete:users_app_metadata create:users_app_metadata read:user_custom_blocks create:user_custom_blocks delete:user_custom_blocks create:user_tickets read:clients update:clients delete:clients create:clients read:client_keys update:client_keys delete:client_keys create:client_keys read:connections update:connections delete:connections create:connections read:resource_servers update:resource_servers delete:resource_servers create:resource_servers read:device_credentials update:device_credentials delete:device_credentials create:device_credentials read:rules update:rules delete:rules create:rules read:rules_configs update:rules_configs delete:rules_configs read:hooks update:hooks delete:hooks create:hooks read:email_provider update:email_provider delete:email_provider create:email_provider blacklist:tokens read:stats read:tenant_settings update:tenant_settings read:logs read:shields create:shields delete:shields read:anomaly_blocks delete:anomaly_blocks update:triggers read:triggers read:grants delete:grants read:guardian_factors update:guardian_factors read:guardian_enrollments delete:guardian_enrollments create:guardian_enrollment_tickets read:user_idp_tokens create:passwords_checking_job delete:passwords_checking_job read:custom_domains delete:custom_domains create:custom_domains update:custom_domains read:email_templates create:email_templates update:email_templates read:mfa_policies update:mfa_policies read:roles create:roles delete:roles update:roles read:prompts update:prompts read:branding update:branding read:log_streams create:log_streams delete:log_streams update:log_streams create:signing_keys read:signing_keys update:signing_keys',\n",
       " 'gty': 'client-credentials'}"
      ]
     },
     "execution_count": 52,
     "metadata": {},
     "output_type": "execute_result"
    }
   ],
   "source": [
    "verify_decode_jwt(token)"
   ]
  },
  {
   "cell_type": "code",
   "execution_count": null,
   "metadata": {},
   "outputs": [],
   "source": []
  },
  {
   "cell_type": "code",
   "execution_count": null,
   "metadata": {},
   "outputs": [],
   "source": []
  }
 ],
 "metadata": {
  "graffiti": {
   "firstAuthorId": "10489997357",
   "id": "id_6cjtndd",
   "language": "EN"
  },
  "kernelspec": {
   "display_name": "Python 3",
   "language": "python",
   "name": "python3"
  },
  "language_info": {
   "codemirror_mode": {
    "name": "ipython",
    "version": 3
   },
   "file_extension": ".py",
   "mimetype": "text/x-python",
   "name": "python",
   "nbconvert_exporter": "python",
   "pygments_lexer": "ipython3",
   "version": "3.7.3"
  }
 },
 "nbformat": 4,
 "nbformat_minor": 2
}
